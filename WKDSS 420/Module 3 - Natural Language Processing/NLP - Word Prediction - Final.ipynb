{
 "cells": [
  {
   "cell_type": "markdown",
   "id": "64039bcf",
   "metadata": {},
   "source": [
    "Code from \"Next Word Prediction using LSTM with TensorFlow\" by Düzgün İlaslan at https://medium.com/@ilaslanduzgun/next-word-prediction-using-lstm-with-tensorflow-e2a8f63b613c.  \n",
    "\n",
    "Modified to use Encoder-Decoder system a.k.a. Sequence-to-Sequence text generation"
   ]
  },
  {
   "cell_type": "code",
   "execution_count": 2,
   "id": "b9ef2bbf",
   "metadata": {},
   "outputs": [],
   "source": [
    "import numpy as np \n",
    "from numpy import array, argmax, array_equal\n",
    "import pandas as pd\n",
    "import matplotlib.pyplot as plt\n",
    "import tensorflow as tf\n",
    "from random import randint\n",
    "from keras.utils import to_categorical\n",
    "from tensorflow.keras.preprocessing.text import Tokenizer\n",
    "from tensorflow.keras.preprocessing.sequence import pad_sequences\n",
    "from tensorflow.keras.models import Sequential\n",
    "from tensorflow.keras.layers import Embedding, LSTM, Dense, Dropout, Bidirectional"
   ]
  },
  {
   "cell_type": "code",
   "execution_count": 2,
   "id": "c3016181",
   "metadata": {},
   "outputs": [],
   "source": [
    "#read dataset\n",
    "with open('sherlock-holm.es_stories_plain-text_advs.txt', 'r', encoding='utf-8') as file:\n",
    "    text = file.read()"
   ]
  },
  {
   "cell_type": "code",
   "execution_count": 3,
   "id": "1b2cf55f",
   "metadata": {},
   "outputs": [],
   "source": [
    "#Tokenizer process\n",
    "tokenizer = Tokenizer()\n",
    "#fit\n",
    "tokenizer.fit_on_texts([text])\n",
    "#assign length of word index\n",
    "total_words = len(tokenizer.word_index) + 1"
   ]
  },
  {
   "cell_type": "code",
   "execution_count": 4,
   "id": "4b9bc4f6",
   "metadata": {},
   "outputs": [
    {
     "data": {
      "text/plain": [
       "['the', 'and', 'i', 'to', 'of']"
      ]
     },
     "execution_count": 4,
     "metadata": {},
     "output_type": "execute_result"
    }
   ],
   "source": [
    "list(tokenizer.word_index)[0:5]"
   ]
  },
  {
   "cell_type": "code",
   "execution_count": 5,
   "id": "1a3466a8",
   "metadata": {},
   "outputs": [],
   "source": [
    "#declare ngrams\n",
    "# Uses the inner for loop to build a 2-gram, 3-gram, 4-gram, etc, till we get to an n-gram that is as long as the sentence.\n",
    "input_sequences = []\n",
    "#split the sentence from '\\n'\n",
    "for line in text.split('\\n'):\n",
    "    #get tokens\n",
    "    token_list = tokenizer.texts_to_sequences([line])[0]\n",
    "    for i in range(1, len(token_list)):\n",
    "        n_gram_sequence = token_list[:i+1]\n",
    "        input_sequences.append(n_gram_sequence)"
   ]
  },
  {
   "cell_type": "code",
   "execution_count": 6,
   "id": "d2d80183",
   "metadata": {},
   "outputs": [
    {
     "data": {
      "text/plain": [
       "96314"
      ]
     },
     "execution_count": 6,
     "metadata": {},
     "output_type": "execute_result"
    }
   ],
   "source": [
    "# total number of n-grams from this dataset\n",
    "len(input_sequences)"
   ]
  },
  {
   "cell_type": "code",
   "execution_count": 7,
   "id": "e91dcf58",
   "metadata": {},
   "outputs": [
    {
     "name": "stdout",
     "output_type": "stream",
     "text": [
      "[1, 1561]\n",
      "[1, 1561, 5]\n",
      "[1, 1561, 5, 129]\n",
      "[1, 1561, 5, 129, 34]\n"
     ]
    }
   ],
   "source": [
    "# example showing how the n-grams are built\n",
    "for i in range(0,4):\n",
    "    print(input_sequences[i])"
   ]
  },
  {
   "cell_type": "code",
   "execution_count": 8,
   "id": "575398f1",
   "metadata": {},
   "outputs": [
    {
     "name": "stdout",
     "output_type": "stream",
     "text": [
      "['the', 'adventures', 'of', 'sherlock', 'holmes']\n"
     ]
    }
   ],
   "source": [
    "# check to see the words in the tokens\n",
    "sentence_token = input_sequences[3] # [1, 1561, 5, 129, 34]\n",
    "sentence = []\n",
    "for token in sentence_token: #retrieve the word at each token number\n",
    "    sentence.append(list((tokenizer.word_index).keys())[list((tokenizer.word_index).values()).index(token)])\n",
    "print(sentence)"
   ]
  },
  {
   "cell_type": "code",
   "execution_count": 9,
   "id": "4f38b7b2",
   "metadata": {},
   "outputs": [],
   "source": [
    "#maximum sentence length\n",
    "max_sequence_len = max([len(seq) for seq in input_sequences])\n",
    "# input sequences\n",
    "input_sequences = np.array(pad_sequences(input_sequences, maxlen=max_sequence_len, padding='pre'))\n",
    "# we've created a numpy array that contains all the n-grams, one per row. ...\n",
    "# Also, we've made each row equal to the size of the maximum sentence length...\n",
    "# and padded all sentences shorter than that with zeros.  \n",
    "# Note that the the padding and tokenizing is done the same was as the NLP Spam Filter lab in DSS 420, Module 3"
   ]
  },
  {
   "cell_type": "code",
   "execution_count": 10,
   "id": "3a075dd0",
   "metadata": {},
   "outputs": [
    {
     "data": {
      "text/plain": [
       "array([[   0,    0,    0,    1],\n",
       "       [   0,    0,    1, 1561],\n",
       "       [   0,    1, 1561,    5],\n",
       "       [   1, 1561,    5,  129],\n",
       "       [   0,    0,    0,  647],\n",
       "       [   0,    0,  647, 4498],\n",
       "       [   0,    0,    0,  226],\n",
       "       [   0,    0,  226,    5],\n",
       "       [   0,    0,    0,    6],\n",
       "       [   0,    0,    6,  827],\n",
       "       [   0,    6,  827,    7],\n",
       "       [   0,    0,    0,    1],\n",
       "       [   0,    0,    1,  234],\n",
       "       [   0,    1,  234,  462],\n",
       "       [   0,    0,    0,    6]])"
      ]
     },
     "execution_count": 10,
     "metadata": {},
     "output_type": "execute_result"
    }
   ],
   "source": [
    "# sample the sequences:\n",
    "input_sequences[0:15,-5:-1]"
   ]
  },
  {
   "cell_type": "markdown",
   "id": "d18fbbc4",
   "metadata": {},
   "source": [
    "Now, our input sequences will be everything except the last word.  We will make the last word (i.e. next word in the sequence) equal the target word.  This is similar to the Sunspot prediction lab in DSS 320, where we put the first 12 months in the sequence as the input to the LSTM, and then made the 13th month the target that we try to predict.  "
   ]
  },
  {
   "cell_type": "code",
   "execution_count": 11,
   "id": "bef93852",
   "metadata": {},
   "outputs": [
    {
     "name": "stdout",
     "output_type": "stream",
     "text": [
      "[   0    0    0    0    0    0    0    0    0    0    0    0    0    0\n",
      "    1 1561    5]\n",
      "129\n"
     ]
    }
   ],
   "source": [
    "X = input_sequences[:, :-1]\n",
    "y = input_sequences[:, -1]\n",
    "\n",
    "print(X[2])\n",
    "print(y[2]) # that is, given token 1, try to predict token 1561 (and by correspondence the word that it represents)"
   ]
  },
  {
   "cell_type": "markdown",
   "id": "9390b45d",
   "metadata": {},
   "source": [
    "Now the predicted value represents a class label, not the integer.  For example, if the predicted value of y[0] is 1561, \"1561\" here represents the token 1561, and not the number.  We want to train the classifier on the tokens as class labels, not as integers.  Otherwise, we risk converting the model into an estimator, which would give us incorrect results. \n",
    "\n",
    "For example, if the model predicted the output to be \"1562\" because the integer \"1562\" is close in value to the integer \"1561\", that does not apply to our case, because the word represented by token \"1562\" could be totally different than the word represented by \"1561\".  \n",
    "\n",
    "So let's convert this to a catergorical variable and encode it with one-hot state encoding"
   ]
  },
  {
   "cell_type": "code",
   "execution_count": 12,
   "id": "d8c71997",
   "metadata": {},
   "outputs": [],
   "source": [
    "y = np.array(tf.keras.utils.to_categorical(y, num_classes=total_words))"
   ]
  },
  {
   "cell_type": "code",
   "execution_count": 13,
   "id": "00caf681",
   "metadata": {},
   "outputs": [
    {
     "name": "stdout",
     "output_type": "stream",
     "text": [
      "Shape of y after converting to categorical is  (96314, 8200)\n"
     ]
    }
   ],
   "source": [
    "print(\"Shape of y after converting to categorical is \", y.shape)"
   ]
  },
  {
   "cell_type": "code",
   "execution_count": 14,
   "id": "08cfdb07",
   "metadata": {},
   "outputs": [
    {
     "name": "stdout",
     "output_type": "stream",
     "text": [
      "(96314, 8200)\n"
     ]
    }
   ],
   "source": [
    "print(y.shape)"
   ]
  },
  {
   "cell_type": "code",
   "execution_count": 15,
   "id": "954e5bfb",
   "metadata": {},
   "outputs": [],
   "source": [
    "# split to train/test for validation set\n",
    "from sklearn.model_selection import train_test_split\n",
    "X_train, X_test, y_train, y_test = train_test_split(X, \n",
    "    y, test_size=0.3, random_state=1)"
   ]
  },
  {
   "cell_type": "code",
   "execution_count": 16,
   "id": "d420eff8",
   "metadata": {},
   "outputs": [
    {
     "name": "stdout",
     "output_type": "stream",
     "text": [
      "(67419, 17)\n",
      "(28895, 17)\n"
     ]
    }
   ],
   "source": [
    "print(X_train.shape)\n",
    "print(X_test.shape)"
   ]
  },
  {
   "cell_type": "code",
   "execution_count": 17,
   "id": "f50f058e",
   "metadata": {},
   "outputs": [
    {
     "data": {
      "text/plain": [
       "8200"
      ]
     },
     "execution_count": 17,
     "metadata": {},
     "output_type": "execute_result"
    }
   ],
   "source": [
    "total_words"
   ]
  },
  {
   "cell_type": "code",
   "execution_count": 18,
   "id": "13ec5071",
   "metadata": {},
   "outputs": [
    {
     "name": "stdout",
     "output_type": "stream",
     "text": [
      "Model: \"sequential\"\n",
      "_________________________________________________________________\n",
      " Layer (type)                Output Shape              Param #   \n",
      "=================================================================\n",
      " embedding (Embedding)       (None, 17, 100)           820000    \n",
      "                                                                 \n",
      " lstm (LSTM)                 (None, 50)                30200     \n",
      "                                                                 \n",
      " dense (Dense)               (None, 8200)              418200    \n",
      "                                                                 \n",
      "=================================================================\n",
      "Total params: 1,268,400\n",
      "Trainable params: 1,268,400\n",
      "Non-trainable params: 0\n",
      "_________________________________________________________________\n",
      "None\n"
     ]
    }
   ],
   "source": [
    "#create model\n",
    "model = Sequential()\n",
    "# Embedding layer takes tokenized inputs where:\n",
    "# - input_length: each (padded) tokenized sentence is 8200 in length (see size above)\n",
    "# - input dim: vocabulary size = total_words\n",
    "# - output_dim: embedded vector size for each word = 100\n",
    "model.add(Embedding(input_dim=total_words, output_dim=100, input_length=max_sequence_len-1))\n",
    "# 150 LSTM layers\n",
    "num_layers = 50\n",
    "#model.add(LSTM(num_layers))\n",
    "model.add((LSTM(num_layers,dropout=0.1)))\n",
    "#model.add(Dense(num_layers,activation='relu'))\n",
    "# You want one output for each word (prediction for each word), ...\n",
    "# ... so size of output of the final Dense layer is \"total_words\"=vocabulary size\n",
    "model.add(Dense(total_words, activation='softmax'))\n",
    "print(model.summary())"
   ]
  },
  {
   "cell_type": "code",
   "execution_count": 19,
   "id": "fa1cdcf6",
   "metadata": {
    "scrolled": false
   },
   "outputs": [
    {
     "name": "stdout",
     "output_type": "stream",
     "text": [
      "Epoch 1/50\n",
      "2107/2107 [==============================] - 43s 19ms/step - loss: 6.4893 - accuracy: 0.0565 - val_loss: 6.2889 - val_accuracy: 0.0672\n",
      "Epoch 2/50\n",
      "2107/2107 [==============================] - 41s 19ms/step - loss: 5.9313 - accuracy: 0.0853 - val_loss: 5.9904 - val_accuracy: 0.1025\n",
      "Epoch 3/50\n",
      "2107/2107 [==============================] - 36s 17ms/step - loss: 5.5722 - accuracy: 0.1145 - val_loss: 5.8976 - val_accuracy: 0.1151\n",
      "Epoch 4/50\n",
      "2107/2107 [==============================] - 36s 17ms/step - loss: 5.3273 - accuracy: 0.1330 - val_loss: 5.8654 - val_accuracy: 0.1208\n",
      "Epoch 5/50\n",
      "2107/2107 [==============================] - 44s 21ms/step - loss: 5.1204 - accuracy: 0.1448 - val_loss: 5.8708 - val_accuracy: 0.1262\n",
      "Epoch 6/50\n",
      "2107/2107 [==============================] - 39s 18ms/step - loss: 4.9396 - accuracy: 0.1598 - val_loss: 5.9048 - val_accuracy: 0.1299\n",
      "Epoch 7/50\n",
      "2107/2107 [==============================] - 44s 21ms/step - loss: 4.7801 - accuracy: 0.1707 - val_loss: 5.9503 - val_accuracy: 0.1323\n",
      "Epoch 8/50\n",
      "2107/2107 [==============================] - 43s 20ms/step - loss: 4.6380 - accuracy: 0.1813 - val_loss: 6.0201 - val_accuracy: 0.1343\n",
      "Epoch 9/50\n",
      "2107/2107 [==============================] - 41s 19ms/step - loss: 4.5042 - accuracy: 0.1916 - val_loss: 6.0723 - val_accuracy: 0.1341\n",
      "Epoch 10/50\n",
      "2107/2107 [==============================] - 48s 23ms/step - loss: 4.3797 - accuracy: 0.2004 - val_loss: 6.1562 - val_accuracy: 0.1315\n",
      "Epoch 11/50\n",
      "2107/2107 [==============================] - 44s 21ms/step - loss: 4.2642 - accuracy: 0.2089 - val_loss: 6.2266 - val_accuracy: 0.1333\n",
      "Epoch 12/50\n",
      "2107/2107 [==============================] - 44s 21ms/step - loss: 4.1530 - accuracy: 0.2205 - val_loss: 6.3113 - val_accuracy: 0.1310\n",
      "Epoch 13/50\n",
      "2107/2107 [==============================] - 42s 20ms/step - loss: 4.0497 - accuracy: 0.2299 - val_loss: 6.3888 - val_accuracy: 0.1320\n",
      "Epoch 14/50\n",
      "2107/2107 [==============================] - 38s 18ms/step - loss: 3.9519 - accuracy: 0.2406 - val_loss: 6.4502 - val_accuracy: 0.1309\n",
      "Epoch 15/50\n",
      "2107/2107 [==============================] - 39s 19ms/step - loss: 3.8591 - accuracy: 0.2488 - val_loss: 6.5331 - val_accuracy: 0.1312\n",
      "Epoch 16/50\n",
      "2107/2107 [==============================] - 37s 18ms/step - loss: 3.7709 - accuracy: 0.2619 - val_loss: 6.6284 - val_accuracy: 0.1270\n",
      "Epoch 17/50\n",
      "2107/2107 [==============================] - 39s 18ms/step - loss: 3.6887 - accuracy: 0.2731 - val_loss: 6.7117 - val_accuracy: 0.1281\n",
      "Epoch 18/50\n",
      "2107/2107 [==============================] - 38s 18ms/step - loss: 3.6114 - accuracy: 0.2829 - val_loss: 6.7677 - val_accuracy: 0.1263\n",
      "Epoch 19/50\n",
      "2107/2107 [==============================] - 39s 18ms/step - loss: 3.5374 - accuracy: 0.2941 - val_loss: 6.8437 - val_accuracy: 0.1264\n",
      "Epoch 20/50\n",
      "2107/2107 [==============================] - 42s 20ms/step - loss: 3.4681 - accuracy: 0.3039 - val_loss: 6.9106 - val_accuracy: 0.1257\n",
      "Epoch 21/50\n",
      "2107/2107 [==============================] - 37s 18ms/step - loss: 3.4022 - accuracy: 0.3130 - val_loss: 6.9750 - val_accuracy: 0.1230\n",
      "Epoch 22/50\n",
      "2107/2107 [==============================] - 41s 20ms/step - loss: 3.3450 - accuracy: 0.3216 - val_loss: 7.0469 - val_accuracy: 0.1213\n",
      "Epoch 23/50\n",
      "2107/2107 [==============================] - 41s 20ms/step - loss: 3.2849 - accuracy: 0.3304 - val_loss: 7.1129 - val_accuracy: 0.1220\n",
      "Epoch 24/50\n",
      "2107/2107 [==============================] - 39s 19ms/step - loss: 3.2351 - accuracy: 0.3378 - val_loss: 7.1683 - val_accuracy: 0.1228\n",
      "Epoch 25/50\n",
      "2107/2107 [==============================] - 38s 18ms/step - loss: 3.1842 - accuracy: 0.3459 - val_loss: 7.2315 - val_accuracy: 0.1185\n",
      "Epoch 26/50\n",
      "2107/2107 [==============================] - 37s 17ms/step - loss: 3.1398 - accuracy: 0.3517 - val_loss: 7.2993 - val_accuracy: 0.1202\n",
      "Epoch 27/50\n",
      "2107/2107 [==============================] - 35s 17ms/step - loss: 3.0905 - accuracy: 0.3609 - val_loss: 7.3492 - val_accuracy: 0.1179\n",
      "Epoch 28/50\n",
      "2107/2107 [==============================] - 36s 17ms/step - loss: 3.0523 - accuracy: 0.3659 - val_loss: 7.4105 - val_accuracy: 0.1190\n",
      "Epoch 29/50\n",
      "2107/2107 [==============================] - 35s 17ms/step - loss: 3.0091 - accuracy: 0.3723 - val_loss: 7.4568 - val_accuracy: 0.1178\n",
      "Epoch 30/50\n",
      "2107/2107 [==============================] - 34s 16ms/step - loss: 2.9694 - accuracy: 0.3798 - val_loss: 7.5135 - val_accuracy: 0.1168\n",
      "Epoch 31/50\n",
      "2107/2107 [==============================] - 35s 16ms/step - loss: 2.9375 - accuracy: 0.3845 - val_loss: 7.5733 - val_accuracy: 0.1160\n",
      "Epoch 32/50\n",
      "2107/2107 [==============================] - 35s 17ms/step - loss: 2.9035 - accuracy: 0.3887 - val_loss: 7.6336 - val_accuracy: 0.1141\n",
      "Epoch 33/50\n",
      "2107/2107 [==============================] - 35s 16ms/step - loss: 2.8658 - accuracy: 0.3967 - val_loss: 7.6795 - val_accuracy: 0.1145\n",
      "Epoch 34/50\n",
      "2107/2107 [==============================] - 35s 16ms/step - loss: 2.8366 - accuracy: 0.3995 - val_loss: 7.7299 - val_accuracy: 0.1126\n",
      "Epoch 35/50\n",
      "2107/2107 [==============================] - 35s 16ms/step - loss: 2.8047 - accuracy: 0.4055 - val_loss: 7.7901 - val_accuracy: 0.1130\n",
      "Epoch 36/50\n",
      "2107/2107 [==============================] - 37s 17ms/step - loss: 2.7814 - accuracy: 0.4101 - val_loss: 7.8218 - val_accuracy: 0.1130\n",
      "Epoch 37/50\n",
      "2107/2107 [==============================] - 37s 17ms/step - loss: 2.7537 - accuracy: 0.4134 - val_loss: 7.8753 - val_accuracy: 0.1123\n",
      "Epoch 38/50\n",
      "2107/2107 [==============================] - 35s 16ms/step - loss: 2.7247 - accuracy: 0.4181 - val_loss: 7.9331 - val_accuracy: 0.1117\n",
      "Epoch 39/50\n",
      "2107/2107 [==============================] - 34s 16ms/step - loss: 2.7004 - accuracy: 0.4242 - val_loss: 7.9707 - val_accuracy: 0.1106\n",
      "Epoch 40/50\n",
      "2107/2107 [==============================] - 34s 16ms/step - loss: 2.6739 - accuracy: 0.4257 - val_loss: 8.0251 - val_accuracy: 0.1109\n",
      "Epoch 41/50\n",
      "2107/2107 [==============================] - 38s 18ms/step - loss: 2.6546 - accuracy: 0.4306 - val_loss: 8.0587 - val_accuracy: 0.1117\n",
      "Epoch 42/50\n",
      "2107/2107 [==============================] - 37s 18ms/step - loss: 2.6293 - accuracy: 0.4344 - val_loss: 8.1046 - val_accuracy: 0.1114\n",
      "Epoch 43/50\n",
      "2107/2107 [==============================] - 44s 21ms/step - loss: 2.6143 - accuracy: 0.4369 - val_loss: 8.1359 - val_accuracy: 0.1114\n",
      "Epoch 44/50\n",
      "2107/2107 [==============================] - 41s 19ms/step - loss: 2.5942 - accuracy: 0.4403 - val_loss: 8.1963 - val_accuracy: 0.1084\n",
      "Epoch 45/50\n",
      "2107/2107 [==============================] - 39s 18ms/step - loss: 2.5717 - accuracy: 0.4440 - val_loss: 8.2375 - val_accuracy: 0.1086\n",
      "Epoch 46/50\n",
      "2107/2107 [==============================] - 39s 19ms/step - loss: 2.5542 - accuracy: 0.4495 - val_loss: 8.2748 - val_accuracy: 0.1089\n",
      "Epoch 47/50\n",
      "2107/2107 [==============================] - 39s 18ms/step - loss: 2.5340 - accuracy: 0.4503 - val_loss: 8.3078 - val_accuracy: 0.1092\n",
      "Epoch 48/50\n",
      "2107/2107 [==============================] - 36s 17ms/step - loss: 2.5170 - accuracy: 0.4545 - val_loss: 8.3520 - val_accuracy: 0.1086\n",
      "Epoch 49/50\n",
      "2107/2107 [==============================] - 35s 17ms/step - loss: 2.4989 - accuracy: 0.4572 - val_loss: 8.3888 - val_accuracy: 0.1083\n",
      "Epoch 50/50\n",
      "2107/2107 [==============================] - 35s 17ms/step - loss: 2.4803 - accuracy: 0.4592 - val_loss: 8.4260 - val_accuracy: 0.1073\n"
     ]
    },
    {
     "data": {
      "text/plain": [
       "<keras.callbacks.History at 0x245516f7b80>"
      ]
     },
     "execution_count": 19,
     "metadata": {},
     "output_type": "execute_result"
    }
   ],
   "source": [
    "#compile the model\n",
    "model.compile(loss='categorical_crossentropy', optimizer='adam', metrics=['accuracy'])\n",
    "#fit the model\n",
    "model.fit(X_train, y_train, epochs=25, validation_data=(X_test, y_test), verbose=1)"
   ]
  },
  {
   "cell_type": "code",
   "execution_count": 20,
   "id": "06f48b35",
   "metadata": {
    "scrolled": true
   },
   "outputs": [
    {
     "data": {
      "text/plain": [
       "<AxesSubplot:>"
      ]
     },
     "execution_count": 20,
     "metadata": {},
     "output_type": "execute_result"
    },
    {
     "data": {
      "image/png": "[encoded data removed]",
      "text/plain": [
       "<Figure size 640x480 with 1 Axes>"
      ]
     },
     "metadata": {},
     "output_type": "display_data"
    }
   ],
   "source": [
    "losses = pd.DataFrame(model.history.history)\n",
    "losses.loc[:,['accuracy','val_accuracy']].plot()"
   ]
  },
  {
   "cell_type": "code",
   "execution_count": 21,
   "id": "51c070b6",
   "metadata": {},
   "outputs": [
    {
     "data": {
      "text/plain": [
       "<Figure size 640x480 with 0 Axes>"
      ]
     },
     "metadata": {},
     "output_type": "display_data"
    }
   ],
   "source": [
    "plt.savefig(\"Model performance with \" + str(num_layers) + \" LSTM Layers - Bidirectionl.png\")\n",
    "losses.to_csv(\"Model performance with \" + str(num_layers) + \" LSTM Layers - Bidirectionl.csv\")"
   ]
  },
  {
   "cell_type": "markdown",
   "id": "9b8187a6",
   "metadata": {},
   "source": [
    "### Inference (testing your model)"
   ]
  },
  {
   "cell_type": "code",
   "execution_count": 31,
   "id": "9a4a04af",
   "metadata": {},
   "outputs": [
    {
     "name": "stdout",
     "output_type": "stream",
     "text": [
      "1/1 [==============================] - 0s 17ms/step\n"
     ]
    }
   ],
   "source": [
    "#determine a text\n",
    "seed_text = \"Elementary my dear\"\n",
    "\n",
    "#convert to token\n",
    "token_list = tokenizer.texts_to_sequences([seed_text])[0]\n",
    "#pad sequences\n",
    "token_list = pad_sequences([token_list], maxlen=max_sequence_len-1, padding='pre')\n",
    "#model prediction\n",
    "predicted = np.argmax(model.predict(token_list), axis=-1)\n"
   ]
  },
  {
   "cell_type": "code",
   "execution_count": 32,
   "id": "7fa3448f",
   "metadata": {},
   "outputs": [
    {
     "name": "stdout",
     "output_type": "stream",
     "text": [
      "Next predicted word is:  watson\n",
      "So whole next sentence is:  Elementary my dear watson\n"
     ]
    }
   ],
   "source": [
    "predicted_word = list((tokenizer.word_index).keys())[list((tokenizer.word_index).values()).index(predicted)]\n",
    "print(\"Next predicted word is: \", predicted_word)\n",
    "print(\"So whole next sentence is: \", seed_text, predicted_word)"
   ]
  },
  {
   "cell_type": "code",
   "execution_count": 34,
   "id": "cb6e634f",
   "metadata": {},
   "outputs": [
    {
     "name": "stdout",
     "output_type": "stream",
     "text": [
      "1/1 [==============================] - 0s 12ms/step\n",
      "1/1 [==============================] - 0s 23ms/step\n",
      "1/1 [==============================] - 0s 15ms/step\n",
      "1/1 [==============================] - 0s 22ms/step\n",
      "1/1 [==============================] - 0s 13ms/step\n"
     ]
    },
    {
     "data": {
      "text/plain": [
       "'Watson the game is stirring three bills upon a'"
      ]
     },
     "execution_count": 34,
     "metadata": {},
     "output_type": "execute_result"
    }
   ],
   "source": [
    "# Now what if you wanted a whole sentence:\n",
    "\n",
    "#determine a text\n",
    "seed_text = \"Watson the game is\"\n",
    "# predict word number\n",
    "next_words = 5\n",
    "\n",
    "for _ in range(next_words):\n",
    "    #convert to token\n",
    "    token_list = tokenizer.texts_to_sequences([seed_text])[0]\n",
    "    #path sequences\n",
    "    token_list = pad_sequences([token_list], maxlen=max_sequence_len-1, padding='pre')\n",
    "    #model prediction\n",
    "    predicted = np.argmax(model.predict(token_list), axis=-1)\n",
    "    output_word = \"\"\n",
    "    # get predict words\n",
    "    for word, index in tokenizer.word_index.items():\n",
    "        if index == predicted:\n",
    "            output_word = word\n",
    "            break\n",
    "    seed_text += \" \" + output_word\n",
    "    \n",
    "seed_text"
   ]
  },
  {
   "cell_type": "markdown",
   "id": "b084b80b",
   "metadata": {},
   "source": [
    "**What did we learn?**\n",
    "LSTM's do a pretty bad job at next word prediction.  While the training accuracy after 50 epochs was greater than 40%, the validation accuracy was only about 10%.  \n",
    "\n",
    "More advanced methods such as *Encoder-Decoder* and *Attention* models should improve performance.  "
   ]
  }
 ],
 "metadata": {
  "kernelspec": {
   "display_name": "Python 3 (ipykernel)",
   "language": "python",
   "name": "python3"
  },
  "language_info": {
   "codemirror_mode": {
    "name": "ipython",
    "version": 3
   },
   "file_extension": ".py",
   "mimetype": "text/x-python",
   "name": "python",
   "nbconvert_exporter": "python",
   "pygments_lexer": "ipython3",
   "version": "3.9.13"
  }
 },
 "nbformat": 4,
 "nbformat_minor": 5
}
